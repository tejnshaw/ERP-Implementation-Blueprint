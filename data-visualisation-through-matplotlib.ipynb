{
 "cells": [
  {
   "cell_type": "code",
   "execution_count": null,
   "id": "25e1b7f4",
   "metadata": {
    "papermill": {
     "duration": 0.009066,
     "end_time": "2023-04-10T08:45:12.564377",
     "exception": false,
     "start_time": "2023-04-10T08:45:12.555311",
     "status": "completed"
    },
    "tags": []
   },
   "outputs": [],
   "source": []
  },
  {
   "cell_type": "code",
   "execution_count": 1,
   "id": "35a29def",
   "metadata": {
    "_cell_guid": "b1076dfc-b9ad-4769-8c92-a6c4dae69d19",
    "_uuid": "8f2839f25d086af736a60e9eeb907d3b93b6e0e5",
    "execution": {
     "iopub.execute_input": "2023-04-10T08:45:12.583168Z",
     "iopub.status.busy": "2023-04-10T08:45:12.582020Z",
     "iopub.status.idle": "2023-04-10T08:45:12.600952Z",
     "shell.execute_reply": "2023-04-10T08:45:12.599939Z"
    },
    "papermill": {
     "duration": 0.031562,
     "end_time": "2023-04-10T08:45:12.604011",
     "exception": false,
     "start_time": "2023-04-10T08:45:12.572449",
     "status": "completed"
    },
    "tags": []
   },
   "outputs": [
    {
     "name": "stdout",
     "output_type": "stream",
     "text": [
      "/kaggle/input/stock-price/Quote-Equity-STEL-EQ-08-10-2022-to-08-04-2023.csv\n"
     ]
    }
   ],
   "source": [
    "# This Python 3 environment comes with many helpful analytics libraries installed\n",
    "# It is defined by the kaggle/python Docker image: https://github.com/kaggle/docker-python\n",
    "# For example, here's several helpful packages to load\n",
    "\n",
    "import numpy as np # linear algebra\n",
    "import pandas as pd # data processing, CSV file I/O (e.g. pd.read_csv)\n",
    "\n",
    "# Input data files are available in the read-only \"../input/\" directory\n",
    "# For example, running this (by clicking run or pressing Shift+Enter) will list all files under the input directory\n",
    "\n",
    "import os\n",
    "for dirname, _, filenames in os.walk('/kaggle/input'):\n",
    "    for filename in filenames:\n",
    "        print(os.path.join(dirname, filename))\n",
    "\n",
    "# You can write up to 20GB to the current directory (/kaggle/working/) that gets preserved as output when you create a version using \"Save & Run All\" \n",
    "# You can also write temporary files to /kaggle/temp/, but they won't be saved outside of the current session"
   ]
  },
  {
   "cell_type": "code",
   "execution_count": 2,
   "id": "2c41d8ba",
   "metadata": {
    "execution": {
     "iopub.execute_input": "2023-04-10T08:45:12.622573Z",
     "iopub.status.busy": "2023-04-10T08:45:12.621725Z",
     "iopub.status.idle": "2023-04-10T08:45:25.508744Z",
     "shell.execute_reply": "2023-04-10T08:45:25.507341Z"
    },
    "papermill": {
     "duration": 12.899633,
     "end_time": "2023-04-10T08:45:25.511949",
     "exception": false,
     "start_time": "2023-04-10T08:45:12.612316",
     "status": "completed"
    },
    "tags": []
   },
   "outputs": [
    {
     "name": "stdout",
     "output_type": "stream",
     "text": [
      "Requirement already satisfied: matplotlib in /opt/conda/lib/python3.7/site-packages (3.5.3)\r\n",
      "Requirement already satisfied: kiwisolver>=1.0.1 in /opt/conda/lib/python3.7/site-packages (from matplotlib) (1.4.4)\r\n",
      "Requirement already satisfied: pyparsing>=2.2.1 in /opt/conda/lib/python3.7/site-packages (from matplotlib) (3.0.9)\r\n",
      "Requirement already satisfied: numpy>=1.17 in /opt/conda/lib/python3.7/site-packages (from matplotlib) (1.21.6)\r\n",
      "Requirement already satisfied: cycler>=0.10 in /opt/conda/lib/python3.7/site-packages (from matplotlib) (0.11.0)\r\n",
      "Requirement already satisfied: pillow>=6.2.0 in /opt/conda/lib/python3.7/site-packages (from matplotlib) (9.4.0)\r\n",
      "Requirement already satisfied: packaging>=20.0 in /opt/conda/lib/python3.7/site-packages (from matplotlib) (23.0)\r\n",
      "Requirement already satisfied: python-dateutil>=2.7 in /opt/conda/lib/python3.7/site-packages (from matplotlib) (2.8.2)\r\n",
      "Requirement already satisfied: fonttools>=4.22.0 in /opt/conda/lib/python3.7/site-packages (from matplotlib) (4.38.0)\r\n",
      "Requirement already satisfied: typing-extensions in /opt/conda/lib/python3.7/site-packages (from kiwisolver>=1.0.1->matplotlib) (4.4.0)\r\n",
      "Requirement already satisfied: six>=1.5 in /opt/conda/lib/python3.7/site-packages (from python-dateutil>=2.7->matplotlib) (1.16.0)\r\n",
      "\u001b[33mWARNING: Running pip as the 'root' user can result in broken permissions and conflicting behaviour with the system package manager. It is recommended to use a virtual environment instead: https://pip.pypa.io/warnings/venv\u001b[0m\u001b[33m\r\n",
      "\u001b[0m"
     ]
    }
   ],
   "source": [
    "!pip3 install --upgrade matplotlib"
   ]
  },
  {
   "cell_type": "code",
   "execution_count": 3,
   "id": "9b86f93d",
   "metadata": {
    "execution": {
     "iopub.execute_input": "2023-04-10T08:45:25.531763Z",
     "iopub.status.busy": "2023-04-10T08:45:25.530533Z",
     "iopub.status.idle": "2023-04-10T08:45:48.578373Z",
     "shell.execute_reply": "2023-04-10T08:45:48.576785Z"
    },
    "papermill": {
     "duration": 23.060968,
     "end_time": "2023-04-10T08:45:48.581481",
     "exception": false,
     "start_time": "2023-04-10T08:45:25.520513",
     "status": "completed"
    },
    "tags": []
   },
   "outputs": [
    {
     "name": "stdout",
     "output_type": "stream",
     "text": [
      "Requirement already satisfied: pandas in /opt/conda/lib/python3.7/site-packages (1.3.5)\r\n",
      "Requirement already satisfied: python-dateutil>=2.7.3 in /opt/conda/lib/python3.7/site-packages (from pandas) (2.8.2)\r\n",
      "Requirement already satisfied: numpy>=1.17.3 in /opt/conda/lib/python3.7/site-packages (from pandas) (1.21.6)\r\n",
      "Requirement already satisfied: pytz>=2017.3 in /opt/conda/lib/python3.7/site-packages (from pandas) (2022.7.1)\r\n",
      "Requirement already satisfied: six>=1.5 in /opt/conda/lib/python3.7/site-packages (from python-dateutil>=2.7.3->pandas) (1.16.0)\r\n",
      "\u001b[33mWARNING: Running pip as the 'root' user can result in broken permissions and conflicting behaviour with the system package manager. It is recommended to use a virtual environment instead: https://pip.pypa.io/warnings/venv\u001b[0m\u001b[33m\r\n",
      "\u001b[0mRequirement already satisfied: numpy in /opt/conda/lib/python3.7/site-packages (1.21.6)\r\n",
      "\u001b[33mWARNING: Running pip as the 'root' user can result in broken permissions and conflicting behaviour with the system package manager. It is recommended to use a virtual environment instead: https://pip.pypa.io/warnings/venv\u001b[0m\u001b[33m\r\n",
      "\u001b[0m"
     ]
    }
   ],
   "source": [
    "!pip3 install pandas\n",
    "!pip3 install numpy"
   ]
  },
  {
   "cell_type": "code",
   "execution_count": 4,
   "id": "5864eb74",
   "metadata": {
    "execution": {
     "iopub.execute_input": "2023-04-10T08:45:48.601835Z",
     "iopub.status.busy": "2023-04-10T08:45:48.600688Z",
     "iopub.status.idle": "2023-04-10T08:45:49.900916Z",
     "shell.execute_reply": "2023-04-10T08:45:49.899298Z"
    },
    "papermill": {
     "duration": 1.3138,
     "end_time": "2023-04-10T08:45:49.904094",
     "exception": false,
     "start_time": "2023-04-10T08:45:48.590294",
     "status": "completed"
    },
    "tags": []
   },
   "outputs": [],
   "source": [
    "import matplotlib\n",
    "import matplotlib.pyplot as plt\n",
    "import numpy as np\n",
    "import pandas as pd\n",
    "import seaborn as sns\n",
    "import datetime"
   ]
  },
  {
   "cell_type": "code",
   "execution_count": 5,
   "id": "b73593f7",
   "metadata": {
    "execution": {
     "iopub.execute_input": "2023-04-10T08:45:49.923335Z",
     "iopub.status.busy": "2023-04-10T08:45:49.922891Z",
     "iopub.status.idle": "2023-04-10T08:45:51.020961Z",
     "shell.execute_reply": "2023-04-10T08:45:51.019190Z"
    },
    "papermill": {
     "duration": 1.11101,
     "end_time": "2023-04-10T08:45:51.023943",
     "exception": false,
     "start_time": "2023-04-10T08:45:49.912933",
     "status": "completed"
    },
    "tags": []
   },
   "outputs": [
    {
     "name": "stdout",
     "output_type": "stream",
     "text": [
      "Python 3.7.12\r\n"
     ]
    }
   ],
   "source": [
    "!python3 --version"
   ]
  },
  {
   "cell_type": "code",
   "execution_count": 6,
   "id": "4b5281af",
   "metadata": {
    "execution": {
     "iopub.execute_input": "2023-04-10T08:45:51.045954Z",
     "iopub.status.busy": "2023-04-10T08:45:51.044402Z",
     "iopub.status.idle": "2023-04-10T08:45:51.055388Z",
     "shell.execute_reply": "2023-04-10T08:45:51.054149Z"
    },
    "papermill": {
     "duration": 0.024766,
     "end_time": "2023-04-10T08:45:51.057986",
     "exception": false,
     "start_time": "2023-04-10T08:45:51.033220",
     "status": "completed"
    },
    "tags": []
   },
   "outputs": [
    {
     "data": {
      "text/plain": [
       "'3.5.3'"
      ]
     },
     "execution_count": 6,
     "metadata": {},
     "output_type": "execute_result"
    }
   ],
   "source": [
    "matplotlib.__version__"
   ]
  },
  {
   "cell_type": "code",
   "execution_count": 7,
   "id": "005bdbfd",
   "metadata": {
    "execution": {
     "iopub.execute_input": "2023-04-10T08:45:51.079584Z",
     "iopub.status.busy": "2023-04-10T08:45:51.078435Z",
     "iopub.status.idle": "2023-04-10T08:45:51.085002Z",
     "shell.execute_reply": "2023-04-10T08:45:51.083945Z"
    },
    "papermill": {
     "duration": 0.019339,
     "end_time": "2023-04-10T08:45:51.087456",
     "exception": false,
     "start_time": "2023-04-10T08:45:51.068117",
     "status": "completed"
    },
    "tags": []
   },
   "outputs": [
    {
     "data": {
      "text/plain": [
       "'1.21.6'"
      ]
     },
     "execution_count": 7,
     "metadata": {},
     "output_type": "execute_result"
    }
   ],
   "source": [
    "np.__version__"
   ]
  },
  {
   "cell_type": "code",
   "execution_count": 8,
   "id": "48227c30",
   "metadata": {
    "execution": {
     "iopub.execute_input": "2023-04-10T08:45:51.107858Z",
     "iopub.status.busy": "2023-04-10T08:45:51.107389Z",
     "iopub.status.idle": "2023-04-10T08:45:51.115342Z",
     "shell.execute_reply": "2023-04-10T08:45:51.113753Z"
    },
    "papermill": {
     "duration": 0.021391,
     "end_time": "2023-04-10T08:45:51.117995",
     "exception": false,
     "start_time": "2023-04-10T08:45:51.096604",
     "status": "completed"
    },
    "tags": []
   },
   "outputs": [
    {
     "data": {
      "text/plain": [
       "'1.3.5'"
      ]
     },
     "execution_count": 8,
     "metadata": {},
     "output_type": "execute_result"
    }
   ],
   "source": [
    "pd.__version__"
   ]
  },
  {
   "cell_type": "code",
   "execution_count": 9,
   "id": "daa823a2",
   "metadata": {
    "execution": {
     "iopub.execute_input": "2023-04-10T08:45:51.138637Z",
     "iopub.status.busy": "2023-04-10T08:45:51.137317Z",
     "iopub.status.idle": "2023-04-10T08:45:51.145284Z",
     "shell.execute_reply": "2023-04-10T08:45:51.143750Z"
    },
    "papermill": {
     "duration": 0.021123,
     "end_time": "2023-04-10T08:45:51.148065",
     "exception": false,
     "start_time": "2023-04-10T08:45:51.126942",
     "status": "completed"
    },
    "tags": []
   },
   "outputs": [
    {
     "name": "stdout",
     "output_type": "stream",
     "text": [
      "Available matplotlib backends: ['tk', 'gtk', 'gtk3', 'gtk4', 'wx', 'qt4', 'qt5', 'qt6', 'qt', 'osx', 'nbagg', 'notebook', 'agg', 'svg', 'pdf', 'ps', 'inline', 'ipympl', 'widget']\n"
     ]
    }
   ],
   "source": [
    "%matplotlib --list"
   ]
  },
  {
   "cell_type": "code",
   "execution_count": 10,
   "id": "80d3d8ef",
   "metadata": {
    "execution": {
     "iopub.execute_input": "2023-04-10T08:45:51.168152Z",
     "iopub.status.busy": "2023-04-10T08:45:51.167738Z",
     "iopub.status.idle": "2023-04-10T08:45:51.174529Z",
     "shell.execute_reply": "2023-04-10T08:45:51.173553Z"
    },
    "papermill": {
     "duration": 0.019933,
     "end_time": "2023-04-10T08:45:51.177071",
     "exception": false,
     "start_time": "2023-04-10T08:45:51.157138",
     "status": "completed"
    },
    "tags": []
   },
   "outputs": [
    {
     "data": {
      "text/plain": [
       "'module://matplotlib_inline.backend_inline'"
      ]
     },
     "execution_count": 10,
     "metadata": {},
     "output_type": "execute_result"
    }
   ],
   "source": [
    "matplotlib.get_backend()"
   ]
  },
  {
   "cell_type": "code",
   "execution_count": 11,
   "id": "0c6191d8",
   "metadata": {
    "execution": {
     "iopub.execute_input": "2023-04-10T08:45:51.197547Z",
     "iopub.status.busy": "2023-04-10T08:45:51.196730Z",
     "iopub.status.idle": "2023-04-10T08:45:51.202991Z",
     "shell.execute_reply": "2023-04-10T08:45:51.202023Z"
    },
    "papermill": {
     "duration": 0.019116,
     "end_time": "2023-04-10T08:45:51.205278",
     "exception": false,
     "start_time": "2023-04-10T08:45:51.186162",
     "status": "completed"
    },
    "tags": []
   },
   "outputs": [
    {
     "data": {
      "text/plain": [
       "True"
      ]
     },
     "execution_count": 11,
     "metadata": {},
     "output_type": "execute_result"
    }
   ],
   "source": [
    "matplotlib.is_interactive()"
   ]
  },
  {
   "cell_type": "code",
   "execution_count": 12,
   "id": "5363ad3f",
   "metadata": {
    "execution": {
     "iopub.execute_input": "2023-04-10T08:45:51.227062Z",
     "iopub.status.busy": "2023-04-10T08:45:51.225895Z",
     "iopub.status.idle": "2023-04-10T08:45:51.234363Z",
     "shell.execute_reply": "2023-04-10T08:45:51.233095Z"
    },
    "papermill": {
     "duration": 0.02211,
     "end_time": "2023-04-10T08:45:51.237083",
     "exception": false,
     "start_time": "2023-04-10T08:45:51.214973",
     "status": "completed"
    },
    "tags": []
   },
   "outputs": [
    {
     "data": {
      "text/plain": [
       "<matplotlib.pyplot._IoffContext at 0x7b349d790e50>"
      ]
     },
     "execution_count": 12,
     "metadata": {},
     "output_type": "execute_result"
    }
   ],
   "source": [
    "matplotlib.pyplot.ioff()"
   ]
  },
  {
   "cell_type": "code",
   "execution_count": 13,
   "id": "876b9acb",
   "metadata": {
    "execution": {
     "iopub.execute_input": "2023-04-10T08:45:51.258103Z",
     "iopub.status.busy": "2023-04-10T08:45:51.257475Z",
     "iopub.status.idle": "2023-04-10T08:45:51.265416Z",
     "shell.execute_reply": "2023-04-10T08:45:51.264117Z"
    },
    "papermill": {
     "duration": 0.021442,
     "end_time": "2023-04-10T08:45:51.268094",
     "exception": false,
     "start_time": "2023-04-10T08:45:51.246652",
     "status": "completed"
    },
    "tags": []
   },
   "outputs": [
    {
     "data": {
      "text/plain": [
       "False"
      ]
     },
     "execution_count": 13,
     "metadata": {},
     "output_type": "execute_result"
    }
   ],
   "source": [
    "matplotlib.is_interactive()"
   ]
  },
  {
   "cell_type": "code",
   "execution_count": 14,
   "id": "a2afe46d",
   "metadata": {
    "execution": {
     "iopub.execute_input": "2023-04-10T08:45:51.290392Z",
     "iopub.status.busy": "2023-04-10T08:45:51.289056Z",
     "iopub.status.idle": "2023-04-10T08:45:51.298378Z",
     "shell.execute_reply": "2023-04-10T08:45:51.297079Z"
    },
    "papermill": {
     "duration": 0.022925,
     "end_time": "2023-04-10T08:45:51.300891",
     "exception": false,
     "start_time": "2023-04-10T08:45:51.277966",
     "status": "completed"
    },
    "tags": []
   },
   "outputs": [
    {
     "data": {
      "text/plain": [
       "<matplotlib.pyplot._IonContext at 0x7b349d799750>"
      ]
     },
     "execution_count": 14,
     "metadata": {},
     "output_type": "execute_result"
    }
   ],
   "source": [
    "matplotlib.pyplot.ion()"
   ]
  },
  {
   "cell_type": "code",
   "execution_count": 15,
   "id": "8427204c",
   "metadata": {
    "execution": {
     "iopub.execute_input": "2023-04-10T08:45:51.322321Z",
     "iopub.status.busy": "2023-04-10T08:45:51.321530Z",
     "iopub.status.idle": "2023-04-10T08:45:51.330015Z",
     "shell.execute_reply": "2023-04-10T08:45:51.328484Z"
    },
    "papermill": {
     "duration": 0.021824,
     "end_time": "2023-04-10T08:45:51.332431",
     "exception": false,
     "start_time": "2023-04-10T08:45:51.310607",
     "status": "completed"
    },
    "tags": []
   },
   "outputs": [
    {
     "data": {
      "text/plain": [
       "True"
      ]
     },
     "execution_count": 15,
     "metadata": {},
     "output_type": "execute_result"
    }
   ],
   "source": [
    "matplotlib.is_interactive()"
   ]
  },
  {
   "cell_type": "code",
   "execution_count": 16,
   "id": "0073ec08",
   "metadata": {
    "execution": {
     "iopub.execute_input": "2023-04-10T08:45:51.354004Z",
     "iopub.status.busy": "2023-04-10T08:45:51.353550Z",
     "iopub.status.idle": "2023-04-10T08:45:51.358888Z",
     "shell.execute_reply": "2023-04-10T08:45:51.357538Z"
    },
    "papermill": {
     "duration": 0.019443,
     "end_time": "2023-04-10T08:45:51.361556",
     "exception": false,
     "start_time": "2023-04-10T08:45:51.342113",
     "status": "completed"
    },
    "tags": []
   },
   "outputs": [],
   "source": [
    "#Line Charts through Random data"
   ]
  },
  {
   "cell_type": "code",
   "execution_count": 17,
   "id": "77c41177",
   "metadata": {
    "execution": {
     "iopub.execute_input": "2023-04-10T08:45:51.384794Z",
     "iopub.status.busy": "2023-04-10T08:45:51.384316Z",
     "iopub.status.idle": "2023-04-10T08:45:51.613168Z",
     "shell.execute_reply": "2023-04-10T08:45:51.611755Z"
    },
    "papermill": {
     "duration": 0.243222,
     "end_time": "2023-04-10T08:45:51.616012",
     "exception": false,
     "start_time": "2023-04-10T08:45:51.372790",
     "status": "completed"
    },
    "tags": []
   },
   "outputs": [
    {
     "data": {
      "image/png": "[encoded data removed]",
      "text/plain": [
       "<Figure size 640x480 with 1 Axes>"
      ]
     },
     "metadata": {},
     "output_type": "display_data"
    }
   ],
   "source": [
    "fig, ax = plt.subplots()"
   ]
  },
  {
   "cell_type": "code",
   "execution_count": 18,
   "id": "e6aa6f9f",
   "metadata": {
    "execution": {
     "iopub.execute_input": "2023-04-10T08:45:51.638481Z",
     "iopub.status.busy": "2023-04-10T08:45:51.637973Z",
     "iopub.status.idle": "2023-04-10T08:45:51.798894Z",
     "shell.execute_reply": "2023-04-10T08:45:51.797367Z"
    },
    "papermill": {
     "duration": 0.175673,
     "end_time": "2023-04-10T08:45:51.801851",
     "exception": false,
     "start_time": "2023-04-10T08:45:51.626178",
     "status": "completed"
    },
    "tags": []
   },
   "outputs": [
    {
     "data": {
      "text/plain": [
       "[<matplotlib.lines.Line2D at 0x7b349d8aaed0>]"
      ]
     },
     "execution_count": 18,
     "metadata": {},
     "output_type": "execute_result"
    },
    {
     "data": {
      "image/png": "[encoded data removed]",
      "text/plain": [
       "<Figure size 640x480 with 1 Axes>"
      ]
     },
     "metadata": {},
     "output_type": "display_data"
    }
   ],
   "source": [
    "fig, ax = plt.subplots()\n",
    "ax.plot([100, 300, 500, 700])"
   ]
  },
  {
   "cell_type": "code",
   "execution_count": 19,
   "id": "af59edd6",
   "metadata": {
    "execution": {
     "iopub.execute_input": "2023-04-10T08:45:51.825393Z",
     "iopub.status.busy": "2023-04-10T08:45:51.824971Z",
     "iopub.status.idle": "2023-04-10T08:45:52.054853Z",
     "shell.execute_reply": "2023-04-10T08:45:52.053334Z"
    },
    "papermill": {
     "duration": 0.244825,
     "end_time": "2023-04-10T08:45:52.057683",
     "exception": false,
     "start_time": "2023-04-10T08:45:51.812858",
     "status": "completed"
    },
    "tags": []
   },
   "outputs": [
    {
     "data": {
      "text/plain": [
       "[<matplotlib.lines.Line2D at 0x7b349d710d10>]"
      ]
     },
     "execution_count": 19,
     "metadata": {},
     "output_type": "execute_result"
    },
    {
     "data": {
      "image/png": "[encoded data removed]",
      "text/plain": [
       "<Figure size 640x480 with 1 Axes>"
      ]
     },
     "metadata": {},
     "output_type": "display_data"
    }
   ],
   "source": [
    "fig, px = plt.subplots()\n",
    "px.plot([3, 6, 7, 9],[100, 300, 500, 700])"
   ]
  },
  {
   "cell_type": "code",
   "execution_count": 20,
   "id": "ba3baf83",
   "metadata": {
    "execution": {
     "iopub.execute_input": "2023-04-10T08:45:52.082210Z",
     "iopub.status.busy": "2023-04-10T08:45:52.081795Z",
     "iopub.status.idle": "2023-04-10T08:45:52.311549Z",
     "shell.execute_reply": "2023-04-10T08:45:52.310296Z"
    },
    "papermill": {
     "duration": 0.24491,
     "end_time": "2023-04-10T08:45:52.314405",
     "exception": false,
     "start_time": "2023-04-10T08:45:52.069495",
     "status": "completed"
    },
    "tags": []
   },
   "outputs": [
    {
     "data": {
      "text/plain": [
       "[<matplotlib.lines.Line2D at 0x7b349d69a7d0>]"
      ]
     },
     "execution_count": 20,
     "metadata": {},
     "output_type": "execute_result"
    },
    {
     "data": {
      "image/png": "[encoded data removed]",
      "text/plain": [
       "<Figure size 640x480 with 1 Axes>"
      ]
     },
     "metadata": {},
     "output_type": "display_data"
    }
   ],
   "source": [
    "fig, px = plt.subplots()\n",
    "px.set(xlabel=\"Random X numbers\",ylabel=\"Random Y numbers\")\n",
    "px.plot([3, 6, 7, 9],[100, 300, 500, 700])"
   ]
  },
  {
   "cell_type": "code",
   "execution_count": 21,
   "id": "bc58fab9",
   "metadata": {
    "execution": {
     "iopub.execute_input": "2023-04-10T08:45:52.339340Z",
     "iopub.status.busy": "2023-04-10T08:45:52.338917Z",
     "iopub.status.idle": "2023-04-10T08:45:52.574707Z",
     "shell.execute_reply": "2023-04-10T08:45:52.573355Z"
    },
    "papermill": {
     "duration": 0.251419,
     "end_time": "2023-04-10T08:45:52.577569",
     "exception": false,
     "start_time": "2023-04-10T08:45:52.326150",
     "status": "completed"
    },
    "tags": []
   },
   "outputs": [
    {
     "data": {
      "image/png": "[encoded data removed]",
      "text/plain": [
       "<Figure size 640x480 with 1 Axes>"
      ]
     },
     "metadata": {},
     "output_type": "display_data"
    }
   ],
   "source": [
    "plt.plot([200,300,400])\n",
    "plt.ylabel(\"Random numbers\")\n",
    "plt.show()"
   ]
  },
  {
   "cell_type": "code",
   "execution_count": 22,
   "id": "45dfd6d3",
   "metadata": {
    "execution": {
     "iopub.execute_input": "2023-04-10T08:45:52.604176Z",
     "iopub.status.busy": "2023-04-10T08:45:52.603760Z",
     "iopub.status.idle": "2023-04-10T08:45:52.845054Z",
     "shell.execute_reply": "2023-04-10T08:45:52.843456Z"
    },
    "papermill": {
     "duration": 0.258235,
     "end_time": "2023-04-10T08:45:52.848215",
     "exception": false,
     "start_time": "2023-04-10T08:45:52.589980",
     "status": "completed"
    },
    "tags": []
   },
   "outputs": [
    {
     "data": {
      "image/png": "[encoded data removed]",
      "text/plain": [
       "<Figure size 640x480 with 1 Axes>"
      ]
     },
     "metadata": {},
     "output_type": "display_data"
    }
   ],
   "source": [
    "plt.plot([4,6,8],[200,300,400])\n",
    "plt.ylabel(\"Random numbers\")\n",
    "plt.xlabel(\"Random numbers yet again\")\n",
    "plt.show()"
   ]
  },
  {
   "cell_type": "code",
   "execution_count": 23,
   "id": "1c804262",
   "metadata": {
    "execution": {
     "iopub.execute_input": "2023-04-10T08:45:52.876953Z",
     "iopub.status.busy": "2023-04-10T08:45:52.875834Z",
     "iopub.status.idle": "2023-04-10T08:45:52.882119Z",
     "shell.execute_reply": "2023-04-10T08:45:52.880554Z"
    },
    "papermill": {
     "duration": 0.024104,
     "end_time": "2023-04-10T08:45:52.885636",
     "exception": false,
     "start_time": "2023-04-10T08:45:52.861532",
     "status": "completed"
    },
    "tags": []
   },
   "outputs": [],
   "source": [
    "#Time Series using stock price"
   ]
  },
  {
   "cell_type": "code",
   "execution_count": 24,
   "id": "75a8a8e0",
   "metadata": {
    "execution": {
     "iopub.execute_input": "2023-04-10T08:45:52.913466Z",
     "iopub.status.busy": "2023-04-10T08:45:52.913029Z",
     "iopub.status.idle": "2023-04-10T08:45:52.964174Z",
     "shell.execute_reply": "2023-04-10T08:45:52.962846Z"
    },
    "papermill": {
     "duration": 0.068296,
     "end_time": "2023-04-10T08:45:52.967211",
     "exception": false,
     "start_time": "2023-04-10T08:45:52.898915",
     "status": "completed"
    },
    "tags": []
   },
   "outputs": [
    {
     "data": {
      "text/html": [
       "<div>\n",
       "<style scoped>\n",
       "    .dataframe tbody tr th:only-of-type {\n",
       "        vertical-align: middle;\n",
       "    }\n",
       "\n",
       "    .dataframe tbody tr th {\n",
       "        vertical-align: top;\n",
       "    }\n",
       "\n",
       "    .dataframe thead th {\n",
       "        text-align: right;\n",
       "    }\n",
       "</style>\n",
       "<table border=\"1\" class=\"dataframe\">\n",
       "  <thead>\n",
       "    <tr style=\"text-align: right;\">\n",
       "      <th></th>\n",
       "      <th>Date</th>\n",
       "      <th>series</th>\n",
       "      <th>OPEN</th>\n",
       "      <th>HIGH</th>\n",
       "      <th>LOW</th>\n",
       "      <th>PREV. CLOSE</th>\n",
       "      <th>ltp</th>\n",
       "      <th>close</th>\n",
       "      <th>vwap</th>\n",
       "      <th>52W H</th>\n",
       "      <th>52W L</th>\n",
       "      <th>VOLUME</th>\n",
       "      <th>VALUE</th>\n",
       "      <th>No of trades</th>\n",
       "    </tr>\n",
       "  </thead>\n",
       "  <tbody>\n",
       "    <tr>\n",
       "      <th>0</th>\n",
       "      <td>06-04-2023</td>\n",
       "      <td>EQ</td>\n",
       "      <td>145.40</td>\n",
       "      <td>147.50</td>\n",
       "      <td>145.40</td>\n",
       "      <td>145.40</td>\n",
       "      <td>147.3</td>\n",
       "      <td>147.15</td>\n",
       "      <td>146.83</td>\n",
       "      <td>174.4</td>\n",
       "      <td>94</td>\n",
       "      <td>4,254</td>\n",
       "      <td>6,24,603.25</td>\n",
       "      <td>87</td>\n",
       "    </tr>\n",
       "    <tr>\n",
       "      <th>1</th>\n",
       "      <td>05-04-2023</td>\n",
       "      <td>EQ</td>\n",
       "      <td>143.00</td>\n",
       "      <td>147.90</td>\n",
       "      <td>142.10</td>\n",
       "      <td>145.55</td>\n",
       "      <td>144.2</td>\n",
       "      <td>145.40</td>\n",
       "      <td>145.32</td>\n",
       "      <td>174.4</td>\n",
       "      <td>94</td>\n",
       "      <td>7,365</td>\n",
       "      <td>10,70,300.80</td>\n",
       "      <td>248</td>\n",
       "    </tr>\n",
       "    <tr>\n",
       "      <th>2</th>\n",
       "      <td>03-04-2023</td>\n",
       "      <td>EQ</td>\n",
       "      <td>148.00</td>\n",
       "      <td>149.90</td>\n",
       "      <td>144.00</td>\n",
       "      <td>143.70</td>\n",
       "      <td>146.0</td>\n",
       "      <td>145.55</td>\n",
       "      <td>147.47</td>\n",
       "      <td>174.4</td>\n",
       "      <td>94</td>\n",
       "      <td>11,998</td>\n",
       "      <td>17,69,348.90</td>\n",
       "      <td>292</td>\n",
       "    </tr>\n",
       "    <tr>\n",
       "      <th>3</th>\n",
       "      <td>31-03-2023</td>\n",
       "      <td>EQ</td>\n",
       "      <td>142.00</td>\n",
       "      <td>147.90</td>\n",
       "      <td>141.00</td>\n",
       "      <td>138.00</td>\n",
       "      <td>147.9</td>\n",
       "      <td>143.70</td>\n",
       "      <td>143.37</td>\n",
       "      <td>174.4</td>\n",
       "      <td>94</td>\n",
       "      <td>12,653</td>\n",
       "      <td>18,14,019.75</td>\n",
       "      <td>277</td>\n",
       "    </tr>\n",
       "    <tr>\n",
       "      <th>4</th>\n",
       "      <td>29-03-2023</td>\n",
       "      <td>EQ</td>\n",
       "      <td>143.45</td>\n",
       "      <td>143.45</td>\n",
       "      <td>137.15</td>\n",
       "      <td>138.85</td>\n",
       "      <td>138.7</td>\n",
       "      <td>138.00</td>\n",
       "      <td>139.21</td>\n",
       "      <td>174.4</td>\n",
       "      <td>94</td>\n",
       "      <td>11,587</td>\n",
       "      <td>16,13,081.30</td>\n",
       "      <td>410</td>\n",
       "    </tr>\n",
       "  </tbody>\n",
       "</table>\n",
       "</div>"
      ],
      "text/plain": [
       "        Date  series    OPEN    HIGH     LOW   PREV. CLOSE    ltp   close   \\\n",
       "0  06-04-2023      EQ  145.40  147.50  145.40        145.40  147.3  147.15   \n",
       "1  05-04-2023      EQ  143.00  147.90  142.10        145.55  144.2  145.40   \n",
       "2  03-04-2023      EQ  148.00  149.90  144.00        143.70  146.0  145.55   \n",
       "3  31-03-2023      EQ  142.00  147.90  141.00        138.00  147.9  143.70   \n",
       "4  29-03-2023      EQ  143.45  143.45  137.15        138.85  138.7  138.00   \n",
       "\n",
       "    vwap   52W H   52W L  VOLUME         VALUE  No of trades   \n",
       "0  146.83   174.4      94   4,254   6,24,603.25            87  \n",
       "1  145.32   174.4      94   7,365  10,70,300.80           248  \n",
       "2  147.47   174.4      94  11,998  17,69,348.90           292  \n",
       "3  143.37   174.4      94  12,653  18,14,019.75           277  \n",
       "4  139.21   174.4      94  11,587  16,13,081.30           410  "
      ]
     },
     "execution_count": 24,
     "metadata": {},
     "output_type": "execute_result"
    }
   ],
   "source": [
    "stockprice=pd.read_csv(\"/kaggle/input/stock-price/Quote-Equity-STEL-EQ-08-10-2022-to-08-04-2023.csv\")\n",
    "stockprice.head()\n"
   ]
  },
  {
   "cell_type": "code",
   "execution_count": 25,
   "id": "5793345b",
   "metadata": {
    "execution": {
     "iopub.execute_input": "2023-04-10T08:45:52.997437Z",
     "iopub.status.busy": "2023-04-10T08:45:52.996511Z",
     "iopub.status.idle": "2023-04-10T08:45:53.020024Z",
     "shell.execute_reply": "2023-04-10T08:45:53.018585Z"
    },
    "papermill": {
     "duration": 0.041943,
     "end_time": "2023-04-10T08:45:53.022860",
     "exception": false,
     "start_time": "2023-04-10T08:45:52.980917",
     "status": "completed"
    },
    "tags": []
   },
   "outputs": [
    {
     "data": {
      "text/html": [
       "<div>\n",
       "<style scoped>\n",
       "    .dataframe tbody tr th:only-of-type {\n",
       "        vertical-align: middle;\n",
       "    }\n",
       "\n",
       "    .dataframe tbody tr th {\n",
       "        vertical-align: top;\n",
       "    }\n",
       "\n",
       "    .dataframe thead th {\n",
       "        text-align: right;\n",
       "    }\n",
       "</style>\n",
       "<table border=\"1\" class=\"dataframe\">\n",
       "  <thead>\n",
       "    <tr style=\"text-align: right;\">\n",
       "      <th></th>\n",
       "      <th>Date</th>\n",
       "      <th>series</th>\n",
       "      <th>OPEN</th>\n",
       "      <th>HIGH</th>\n",
       "      <th>LOW</th>\n",
       "      <th>PREV. CLOSE</th>\n",
       "      <th>ltp</th>\n",
       "      <th>close</th>\n",
       "      <th>vwap</th>\n",
       "      <th>52W H</th>\n",
       "      <th>52W L</th>\n",
       "      <th>VOLUME</th>\n",
       "      <th>VALUE</th>\n",
       "      <th>No of trades</th>\n",
       "    </tr>\n",
       "  </thead>\n",
       "  <tbody>\n",
       "    <tr>\n",
       "      <th>118</th>\n",
       "      <td>14-10-2022</td>\n",
       "      <td>EQ</td>\n",
       "      <td>129.45</td>\n",
       "      <td>131.50</td>\n",
       "      <td>126.20</td>\n",
       "      <td>126.10</td>\n",
       "      <td>127.5</td>\n",
       "      <td>126.9</td>\n",
       "      <td>128.61</td>\n",
       "      <td>185.0</td>\n",
       "      <td>94</td>\n",
       "      <td>8,937</td>\n",
       "      <td>11,49,392.25</td>\n",
       "      <td>306</td>\n",
       "    </tr>\n",
       "    <tr>\n",
       "      <th>119</th>\n",
       "      <td>13-10-2022</td>\n",
       "      <td>EQ</td>\n",
       "      <td>128.10</td>\n",
       "      <td>132.45</td>\n",
       "      <td>125.15</td>\n",
       "      <td>130.30</td>\n",
       "      <td>126.0</td>\n",
       "      <td>126.1</td>\n",
       "      <td>127.11</td>\n",
       "      <td>185.0</td>\n",
       "      <td>94</td>\n",
       "      <td>14,894</td>\n",
       "      <td>18,93,166.95</td>\n",
       "      <td>447</td>\n",
       "    </tr>\n",
       "    <tr>\n",
       "      <th>120</th>\n",
       "      <td>12-10-2022</td>\n",
       "      <td>EQ</td>\n",
       "      <td>134.30</td>\n",
       "      <td>137.20</td>\n",
       "      <td>128.00</td>\n",
       "      <td>134.80</td>\n",
       "      <td>130.9</td>\n",
       "      <td>130.3</td>\n",
       "      <td>131.27</td>\n",
       "      <td>185.0</td>\n",
       "      <td>94</td>\n",
       "      <td>17,732</td>\n",
       "      <td>23,27,630.95</td>\n",
       "      <td>451</td>\n",
       "    </tr>\n",
       "    <tr>\n",
       "      <th>121</th>\n",
       "      <td>11-10-2022</td>\n",
       "      <td>EQ</td>\n",
       "      <td>139.80</td>\n",
       "      <td>139.80</td>\n",
       "      <td>134.00</td>\n",
       "      <td>135.70</td>\n",
       "      <td>134.0</td>\n",
       "      <td>134.8</td>\n",
       "      <td>136.57</td>\n",
       "      <td>185.0</td>\n",
       "      <td>94</td>\n",
       "      <td>3,740</td>\n",
       "      <td>5,10,780.75</td>\n",
       "      <td>150</td>\n",
       "    </tr>\n",
       "    <tr>\n",
       "      <th>122</th>\n",
       "      <td>10-10-2022</td>\n",
       "      <td>EQ</td>\n",
       "      <td>137.65</td>\n",
       "      <td>139.45</td>\n",
       "      <td>135.00</td>\n",
       "      <td>141.25</td>\n",
       "      <td>135.0</td>\n",
       "      <td>135.7</td>\n",
       "      <td>136.82</td>\n",
       "      <td>185.0</td>\n",
       "      <td>94</td>\n",
       "      <td>9,772</td>\n",
       "      <td>13,37,004.10</td>\n",
       "      <td>364</td>\n",
       "    </tr>\n",
       "  </tbody>\n",
       "</table>\n",
       "</div>"
      ],
      "text/plain": [
       "          Date  series    OPEN    HIGH     LOW   PREV. CLOSE    ltp   close   \\\n",
       "118  14-10-2022      EQ  129.45  131.50  126.20        126.10  127.5   126.9   \n",
       "119  13-10-2022      EQ  128.10  132.45  125.15        130.30  126.0   126.1   \n",
       "120  12-10-2022      EQ  134.30  137.20  128.00        134.80  130.9   130.3   \n",
       "121  11-10-2022      EQ  139.80  139.80  134.00        135.70  134.0   134.8   \n",
       "122  10-10-2022      EQ  137.65  139.45  135.00        141.25  135.0   135.7   \n",
       "\n",
       "      vwap   52W H   52W L  VOLUME         VALUE  No of trades   \n",
       "118  128.61   185.0      94   8,937  11,49,392.25           306  \n",
       "119  127.11   185.0      94  14,894  18,93,166.95           447  \n",
       "120  131.27   185.0      94  17,732  23,27,630.95           451  \n",
       "121  136.57   185.0      94   3,740   5,10,780.75           150  \n",
       "122  136.82   185.0      94   9,772  13,37,004.10           364  "
      ]
     },
     "execution_count": 25,
     "metadata": {},
     "output_type": "execute_result"
    }
   ],
   "source": [
    "stockprice.tail()"
   ]
  },
  {
   "cell_type": "code",
   "execution_count": 26,
   "id": "93d241d7",
   "metadata": {
    "execution": {
     "iopub.execute_input": "2023-04-10T08:45:53.051452Z",
     "iopub.status.busy": "2023-04-10T08:45:53.050550Z",
     "iopub.status.idle": "2023-04-10T08:45:53.101915Z",
     "shell.execute_reply": "2023-04-10T08:45:53.100414Z"
    },
    "papermill": {
     "duration": 0.068471,
     "end_time": "2023-04-10T08:45:53.104456",
     "exception": false,
     "start_time": "2023-04-10T08:45:53.035985",
     "status": "completed"
    },
    "tags": []
   },
   "outputs": [
    {
     "data": {
      "text/html": [
       "<div>\n",
       "<style scoped>\n",
       "    .dataframe tbody tr th:only-of-type {\n",
       "        vertical-align: middle;\n",
       "    }\n",
       "\n",
       "    .dataframe tbody tr th {\n",
       "        vertical-align: top;\n",
       "    }\n",
       "\n",
       "    .dataframe thead th {\n",
       "        text-align: right;\n",
       "    }\n",
       "</style>\n",
       "<table border=\"1\" class=\"dataframe\">\n",
       "  <thead>\n",
       "    <tr style=\"text-align: right;\">\n",
       "      <th></th>\n",
       "      <th>OPEN</th>\n",
       "      <th>HIGH</th>\n",
       "      <th>LOW</th>\n",
       "      <th>PREV. CLOSE</th>\n",
       "      <th>ltp</th>\n",
       "      <th>close</th>\n",
       "      <th>vwap</th>\n",
       "      <th>52W H</th>\n",
       "      <th>52W L</th>\n",
       "    </tr>\n",
       "  </thead>\n",
       "  <tbody>\n",
       "    <tr>\n",
       "      <th>count</th>\n",
       "      <td>123.000000</td>\n",
       "      <td>123.000000</td>\n",
       "      <td>123.000000</td>\n",
       "      <td>123.000000</td>\n",
       "      <td>123.000000</td>\n",
       "      <td>123.000000</td>\n",
       "      <td>123.000000</td>\n",
       "      <td>123.000000</td>\n",
       "      <td>123.0</td>\n",
       "    </tr>\n",
       "    <tr>\n",
       "      <th>mean</th>\n",
       "      <td>143.758943</td>\n",
       "      <td>146.774797</td>\n",
       "      <td>140.163008</td>\n",
       "      <td>142.782114</td>\n",
       "      <td>142.715854</td>\n",
       "      <td>142.830081</td>\n",
       "      <td>143.346504</td>\n",
       "      <td>180.276423</td>\n",
       "      <td>94.0</td>\n",
       "    </tr>\n",
       "    <tr>\n",
       "      <th>std</th>\n",
       "      <td>12.876042</td>\n",
       "      <td>12.815789</td>\n",
       "      <td>11.837942</td>\n",
       "      <td>12.137414</td>\n",
       "      <td>12.006158</td>\n",
       "      <td>12.142966</td>\n",
       "      <td>12.400069</td>\n",
       "      <td>5.274282</td>\n",
       "      <td>0.0</td>\n",
       "    </tr>\n",
       "    <tr>\n",
       "      <th>min</th>\n",
       "      <td>121.850000</td>\n",
       "      <td>123.950000</td>\n",
       "      <td>116.600000</td>\n",
       "      <td>122.100000</td>\n",
       "      <td>121.650000</td>\n",
       "      <td>122.100000</td>\n",
       "      <td>122.270000</td>\n",
       "      <td>174.400000</td>\n",
       "      <td>94.0</td>\n",
       "    </tr>\n",
       "    <tr>\n",
       "      <th>25%</th>\n",
       "      <td>133.650000</td>\n",
       "      <td>136.000000</td>\n",
       "      <td>131.050000</td>\n",
       "      <td>133.975000</td>\n",
       "      <td>133.075000</td>\n",
       "      <td>133.975000</td>\n",
       "      <td>133.325000</td>\n",
       "      <td>174.400000</td>\n",
       "      <td>94.0</td>\n",
       "    </tr>\n",
       "    <tr>\n",
       "      <th>50%</th>\n",
       "      <td>141.200000</td>\n",
       "      <td>146.000000</td>\n",
       "      <td>138.300000</td>\n",
       "      <td>141.200000</td>\n",
       "      <td>141.000000</td>\n",
       "      <td>141.200000</td>\n",
       "      <td>142.310000</td>\n",
       "      <td>185.000000</td>\n",
       "      <td>94.0</td>\n",
       "    </tr>\n",
       "    <tr>\n",
       "      <th>75%</th>\n",
       "      <td>153.550000</td>\n",
       "      <td>155.575000</td>\n",
       "      <td>150.000000</td>\n",
       "      <td>152.275000</td>\n",
       "      <td>152.300000</td>\n",
       "      <td>152.275000</td>\n",
       "      <td>152.770000</td>\n",
       "      <td>185.000000</td>\n",
       "      <td>94.0</td>\n",
       "    </tr>\n",
       "    <tr>\n",
       "      <th>max</th>\n",
       "      <td>174.400000</td>\n",
       "      <td>174.400000</td>\n",
       "      <td>170.050000</td>\n",
       "      <td>171.800000</td>\n",
       "      <td>171.800000</td>\n",
       "      <td>171.800000</td>\n",
       "      <td>171.820000</td>\n",
       "      <td>185.000000</td>\n",
       "      <td>94.0</td>\n",
       "    </tr>\n",
       "  </tbody>\n",
       "</table>\n",
       "</div>"
      ],
      "text/plain": [
       "            OPEN        HIGH         LOW   PREV. CLOSE         ltp   \\\n",
       "count  123.000000  123.000000  123.000000    123.000000  123.000000   \n",
       "mean   143.758943  146.774797  140.163008    142.782114  142.715854   \n",
       "std     12.876042   12.815789   11.837942     12.137414   12.006158   \n",
       "min    121.850000  123.950000  116.600000    122.100000  121.650000   \n",
       "25%    133.650000  136.000000  131.050000    133.975000  133.075000   \n",
       "50%    141.200000  146.000000  138.300000    141.200000  141.000000   \n",
       "75%    153.550000  155.575000  150.000000    152.275000  152.300000   \n",
       "max    174.400000  174.400000  170.050000    171.800000  171.800000   \n",
       "\n",
       "           close        vwap       52W H   52W L   \n",
       "count  123.000000  123.000000  123.000000   123.0  \n",
       "mean   142.830081  143.346504  180.276423    94.0  \n",
       "std     12.142966   12.400069    5.274282     0.0  \n",
       "min    122.100000  122.270000  174.400000    94.0  \n",
       "25%    133.975000  133.325000  174.400000    94.0  \n",
       "50%    141.200000  142.310000  185.000000    94.0  \n",
       "75%    152.275000  152.770000  185.000000    94.0  \n",
       "max    171.800000  171.820000  185.000000    94.0  "
      ]
     },
     "execution_count": 26,
     "metadata": {},
     "output_type": "execute_result"
    }
   ],
   "source": [
    "stockprice.describe()"
   ]
  },
  {
   "cell_type": "code",
   "execution_count": 27,
   "id": "072a37dc",
   "metadata": {
    "execution": {
     "iopub.execute_input": "2023-04-10T08:45:53.135135Z",
     "iopub.status.busy": "2023-04-10T08:45:53.133628Z",
     "iopub.status.idle": "2023-04-10T08:45:53.142296Z",
     "shell.execute_reply": "2023-04-10T08:45:53.141303Z"
    },
    "papermill": {
     "duration": 0.027144,
     "end_time": "2023-04-10T08:45:53.145087",
     "exception": false,
     "start_time": "2023-04-10T08:45:53.117943",
     "status": "completed"
    },
    "tags": []
   },
   "outputs": [
    {
     "data": {
      "text/plain": [
       "Index(['Date ', 'series ', 'OPEN ', 'HIGH ', 'LOW ', 'PREV. CLOSE ', 'ltp ',\n",
       "       'close ', 'vwap ', '52W H ', '52W L ', 'VOLUME ', 'VALUE ',\n",
       "       'No of trades '],\n",
       "      dtype='object')"
      ]
     },
     "execution_count": 27,
     "metadata": {},
     "output_type": "execute_result"
    }
   ],
   "source": [
    "stockprice.columns"
   ]
  },
  {
   "cell_type": "code",
   "execution_count": 28,
   "id": "bc4050df",
   "metadata": {
    "execution": {
     "iopub.execute_input": "2023-04-10T08:45:53.174153Z",
     "iopub.status.busy": "2023-04-10T08:45:53.173684Z",
     "iopub.status.idle": "2023-04-10T08:45:53.181862Z",
     "shell.execute_reply": "2023-04-10T08:45:53.180481Z"
    },
    "papermill": {
     "duration": 0.025573,
     "end_time": "2023-04-10T08:45:53.184283",
     "exception": false,
     "start_time": "2023-04-10T08:45:53.158710",
     "status": "completed"
    },
    "tags": []
   },
   "outputs": [
    {
     "data": {
      "text/plain": [
       "dtype('O')"
      ]
     },
     "execution_count": 28,
     "metadata": {},
     "output_type": "execute_result"
    }
   ],
   "source": [
    "stockprice['Date '].dtypes"
   ]
  },
  {
   "cell_type": "code",
   "execution_count": 29,
   "id": "1c660eca",
   "metadata": {
    "execution": {
     "iopub.execute_input": "2023-04-10T08:45:53.213445Z",
     "iopub.status.busy": "2023-04-10T08:45:53.212987Z",
     "iopub.status.idle": "2023-04-10T08:45:53.223792Z",
     "shell.execute_reply": "2023-04-10T08:45:53.222355Z"
    },
    "papermill": {
     "duration": 0.028504,
     "end_time": "2023-04-10T08:45:53.226420",
     "exception": false,
     "start_time": "2023-04-10T08:45:53.197916",
     "status": "completed"
    },
    "tags": []
   },
   "outputs": [],
   "source": [
    "import datetime\n",
    "stockprice['Date ']=pd.to_datetime(stockprice['Date '], format=\"%d-%M-%Y\")"
   ]
  },
  {
   "cell_type": "code",
   "execution_count": 30,
   "id": "d52bad46",
   "metadata": {
    "execution": {
     "iopub.execute_input": "2023-04-10T08:45:53.255526Z",
     "iopub.status.busy": "2023-04-10T08:45:53.255114Z",
     "iopub.status.idle": "2023-04-10T08:45:53.265931Z",
     "shell.execute_reply": "2023-04-10T08:45:53.264620Z"
    },
    "papermill": {
     "duration": 0.028099,
     "end_time": "2023-04-10T08:45:53.268352",
     "exception": false,
     "start_time": "2023-04-10T08:45:53.240253",
     "status": "completed"
    },
    "tags": []
   },
   "outputs": [
    {
     "data": {
      "text/plain": [
       "0     2023-01-06 00:04:00\n",
       "1     2023-01-05 00:04:00\n",
       "2     2023-01-03 00:04:00\n",
       "3     2023-01-31 00:03:00\n",
       "4     2023-01-29 00:03:00\n",
       "              ...        \n",
       "118   2022-01-14 00:10:00\n",
       "119   2022-01-13 00:10:00\n",
       "120   2022-01-12 00:10:00\n",
       "121   2022-01-11 00:10:00\n",
       "122   2022-01-10 00:10:00\n",
       "Name: Date , Length: 123, dtype: datetime64[ns]"
      ]
     },
     "execution_count": 30,
     "metadata": {},
     "output_type": "execute_result"
    }
   ],
   "source": [
    "stockprice['Date ']"
   ]
  },
  {
   "cell_type": "code",
   "execution_count": 31,
   "id": "1da7524d",
   "metadata": {
    "execution": {
     "iopub.execute_input": "2023-04-10T08:45:53.297899Z",
     "iopub.status.busy": "2023-04-10T08:45:53.297440Z",
     "iopub.status.idle": "2023-04-10T08:45:53.322492Z",
     "shell.execute_reply": "2023-04-10T08:45:53.321124Z"
    },
    "papermill": {
     "duration": 0.042793,
     "end_time": "2023-04-10T08:45:53.324917",
     "exception": false,
     "start_time": "2023-04-10T08:45:53.282124",
     "status": "completed"
    },
    "tags": []
   },
   "outputs": [
    {
     "data": {
      "text/html": [
       "<div>\n",
       "<style scoped>\n",
       "    .dataframe tbody tr th:only-of-type {\n",
       "        vertical-align: middle;\n",
       "    }\n",
       "\n",
       "    .dataframe tbody tr th {\n",
       "        vertical-align: top;\n",
       "    }\n",
       "\n",
       "    .dataframe thead th {\n",
       "        text-align: right;\n",
       "    }\n",
       "</style>\n",
       "<table border=\"1\" class=\"dataframe\">\n",
       "  <thead>\n",
       "    <tr style=\"text-align: right;\">\n",
       "      <th></th>\n",
       "      <th>Date</th>\n",
       "      <th>series</th>\n",
       "      <th>OPEN</th>\n",
       "      <th>HIGH</th>\n",
       "      <th>LOW</th>\n",
       "      <th>PREV. CLOSE</th>\n",
       "      <th>ltp</th>\n",
       "      <th>close</th>\n",
       "      <th>vwap</th>\n",
       "      <th>52W H</th>\n",
       "      <th>52W L</th>\n",
       "      <th>VOLUME</th>\n",
       "      <th>VALUE</th>\n",
       "      <th>No of trades</th>\n",
       "    </tr>\n",
       "  </thead>\n",
       "  <tbody>\n",
       "    <tr>\n",
       "      <th>107</th>\n",
       "      <td>2022-01-01 00:11:00</td>\n",
       "      <td>EQ</td>\n",
       "      <td>121.85</td>\n",
       "      <td>124.95</td>\n",
       "      <td>121.85</td>\n",
       "      <td>123.00</td>\n",
       "      <td>122.70</td>\n",
       "      <td>122.95</td>\n",
       "      <td>123.52</td>\n",
       "      <td>185.0</td>\n",
       "      <td>94</td>\n",
       "      <td>6,474</td>\n",
       "      <td>7,99,673.00</td>\n",
       "      <td>152</td>\n",
       "    </tr>\n",
       "    <tr>\n",
       "      <th>86</th>\n",
       "      <td>2022-01-01 00:12:00</td>\n",
       "      <td>EQ</td>\n",
       "      <td>139.40</td>\n",
       "      <td>143.95</td>\n",
       "      <td>138.55</td>\n",
       "      <td>140.15</td>\n",
       "      <td>141.00</td>\n",
       "      <td>141.30</td>\n",
       "      <td>140.65</td>\n",
       "      <td>185.0</td>\n",
       "      <td>94</td>\n",
       "      <td>10,713</td>\n",
       "      <td>15,06,746.75</td>\n",
       "      <td>485</td>\n",
       "    </tr>\n",
       "    <tr>\n",
       "      <th>106</th>\n",
       "      <td>2022-01-02 00:11:00</td>\n",
       "      <td>EQ</td>\n",
       "      <td>122.85</td>\n",
       "      <td>128.45</td>\n",
       "      <td>122.55</td>\n",
       "      <td>122.95</td>\n",
       "      <td>126.00</td>\n",
       "      <td>126.70</td>\n",
       "      <td>125.69</td>\n",
       "      <td>185.0</td>\n",
       "      <td>94</td>\n",
       "      <td>21,243</td>\n",
       "      <td>26,70,004.70</td>\n",
       "      <td>375</td>\n",
       "    </tr>\n",
       "    <tr>\n",
       "      <th>85</th>\n",
       "      <td>2022-01-02 00:12:00</td>\n",
       "      <td>EQ</td>\n",
       "      <td>141.30</td>\n",
       "      <td>145.90</td>\n",
       "      <td>139.20</td>\n",
       "      <td>141.30</td>\n",
       "      <td>141.00</td>\n",
       "      <td>142.00</td>\n",
       "      <td>143.02</td>\n",
       "      <td>185.0</td>\n",
       "      <td>94</td>\n",
       "      <td>18,940</td>\n",
       "      <td>27,08,810.20</td>\n",
       "      <td>606</td>\n",
       "    </tr>\n",
       "    <tr>\n",
       "      <th>105</th>\n",
       "      <td>2022-01-03 00:11:00</td>\n",
       "      <td>EQ</td>\n",
       "      <td>126.80</td>\n",
       "      <td>127.20</td>\n",
       "      <td>122.85</td>\n",
       "      <td>126.70</td>\n",
       "      <td>123.55</td>\n",
       "      <td>124.50</td>\n",
       "      <td>124.66</td>\n",
       "      <td>185.0</td>\n",
       "      <td>94</td>\n",
       "      <td>12,836</td>\n",
       "      <td>16,00,185.15</td>\n",
       "      <td>333</td>\n",
       "    </tr>\n",
       "  </tbody>\n",
       "</table>\n",
       "</div>"
      ],
      "text/plain": [
       "                  Date  series    OPEN    HIGH     LOW   PREV. CLOSE     ltp   \\\n",
       "107 2022-01-01 00:11:00      EQ  121.85  124.95  121.85        123.00  122.70   \n",
       "86  2022-01-01 00:12:00      EQ  139.40  143.95  138.55        140.15  141.00   \n",
       "106 2022-01-02 00:11:00      EQ  122.85  128.45  122.55        122.95  126.00   \n",
       "85  2022-01-02 00:12:00      EQ  141.30  145.90  139.20        141.30  141.00   \n",
       "105 2022-01-03 00:11:00      EQ  126.80  127.20  122.85        126.70  123.55   \n",
       "\n",
       "     close    vwap   52W H   52W L  VOLUME         VALUE  No of trades   \n",
       "107  122.95  123.52   185.0      94   6,474   7,99,673.00           152  \n",
       "86   141.30  140.65   185.0      94  10,713  15,06,746.75           485  \n",
       "106  126.70  125.69   185.0      94  21,243  26,70,004.70           375  \n",
       "85   142.00  143.02   185.0      94  18,940  27,08,810.20           606  \n",
       "105  124.50  124.66   185.0      94  12,836  16,00,185.15           333  "
      ]
     },
     "execution_count": 31,
     "metadata": {},
     "output_type": "execute_result"
    }
   ],
   "source": [
    "stockprice.sort_values(by='Date ', ascending=True, axis=0, inplace=True)\n",
    "stockprice.head()"
   ]
  },
  {
   "cell_type": "code",
   "execution_count": null,
   "id": "e4598865",
   "metadata": {
    "papermill": {
     "duration": 0.01365,
     "end_time": "2023-04-10T08:45:53.352735",
     "exception": false,
     "start_time": "2023-04-10T08:45:53.339085",
     "status": "completed"
    },
    "tags": []
   },
   "outputs": [],
   "source": []
  }
 ],
 "metadata": {
  "kernelspec": {
   "display_name": "Python 3",
   "language": "python",
   "name": "python3"
  },
  "language_info": {
   "codemirror_mode": {
    "name": "ipython",
    "version": 3
   },
   "file_extension": ".py",
   "mimetype": "text/x-python",
   "name": "python",
   "nbconvert_exporter": "python",
   "pygments_lexer": "ipython3",
   "version": "3.7.12"
  },
  "papermill": {
   "default_parameters": {},
   "duration": 52.772596,
   "end_time": "2023-04-10T08:45:54.191087",
   "environment_variables": {},
   "exception": null,
   "input_path": "__notebook__.ipynb",
   "output_path": "__notebook__.ipynb",
   "parameters": {},
   "start_time": "2023-04-10T08:45:01.418491",
   "version": "2.4.0"
  }
 },
 "nbformat": 4,
 "nbformat_minor": 5
}
